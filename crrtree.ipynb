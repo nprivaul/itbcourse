{
 "cells": [
  {
   "cell_type": "code",
   "execution_count": null,
   "metadata": {
    "collapsed": false
   },
   "outputs": [],
   "source": [
    "%matplotlib inline\n",
    "import networkx as nx \n",
    "import numpy as np\n",
    "import matplotlib \n",
    "import matplotlib.pyplot as plt \n",
    "\n",
    "N=50\n",
    "\n",
    "r = 0.5\n",
    "b = 1\n",
    "a = -0.5\n",
    "\n",
    "p = (r-a)/(b-a)\n",
    "q = (b-r)/(b-a)\n",
    "\n",
    "def binomial_grid(n,s0):\n",
    "    G=nx.Graph() \n",
    "    for i in range(0,n):\n",
    "        j=-i+1\n",
    "        while (j<i+2):\n",
    "            G.add_edge((i,j),(i+1,j+1),weight=0.0)\n",
    "            G.add_edge((i,j),(i+1,j-1),weight=0.0)\n",
    "            j=j+2\n",
    "    \n",
    "    posG={}\n",
    "    lab={}\n",
    "    for node in G.nodes():\n",
    "        posG[node]=(node[0],node[1])\n",
    "        if node[0]==0:\n",
    "            lab[node]=s0\n",
    "        i=node[0]\n",
    "        j=node[1]\n",
    "        if j>1:\n",
    "            lab[node]=s0*((1+b)**(j-1))\n",
    "        elif j==1:\n",
    "            lab[node]=s0\n",
    "        else:\n",
    "            lab[node]=s0*((1+a)**(1-j))\n",
    "        \n",
    "    j=1\n",
    "    for i in range(0,n):\n",
    "        r=np.random.binomial(1,p,1)\n",
    "        if r >0:\n",
    "            G.add_edge((i,j),(i+1,j+1),weight=1.0)\n",
    "            j=j+1\n",
    "        else:\n",
    "            G.add_edge((i,j),(i+1,j-1),weight=1.0)\n",
    "            j=j-1\n",
    "    elarge=[(a,b) for (a,b,c) in G.edges(data=True) if c['weight'] >0.5]\n",
    "    esmall=[(a,b) for (a,b,c) in G.edges(data=True) if c['weight'] <=0.5]\n",
    "    plt.figure(figsize=(20,10))\n",
    "    nx.draw_networkx_edges(G,posG,edgelist=elarge,edge_color='blue',width=2)\n",
    "    nx.draw_networkx_edges(G,posG,edgelist=esmall,style='dashed')\n",
    "    nx.draw_networkx_labels(G,posG,lab,font_size=15,font_family='sans-serif')\n",
    "    plt.show()"
   ]
  },
  {
   "cell_type": "code",
   "execution_count": null,
   "metadata": {
    "collapsed": false
   },
   "outputs": [],
   "source": [
    "binomial_grid(5,1.0)"
   ]
  }
 ],
 "metadata": {
  "anaconda-cloud": {},
  "kernelspec": {
   "display_name": "Python 3",
   "language": "python",
   "name": "python3"
  },
  "language_info": {
   "codemirror_mode": {
    "name": "ipython",
    "version": 3
   },
   "file_extension": ".py",
   "mimetype": "text/x-python",
   "name": "python",
   "nbconvert_exporter": "python",
   "pygments_lexer": "ipython3",
   "version": "3.5.2"
  },
  "widgets": {
   "state": {},
   "version": "1.1.2"
  }
 },
 "nbformat": 4,
 "nbformat_minor": 0
}

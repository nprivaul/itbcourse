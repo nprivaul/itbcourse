{
 "cells": [
  {
   "cell_type": "markdown",
   "metadata": {},
   "source": [
    "The aim of this Notebook is to create a code that calculate simulations for the pricicng and hedging of derivatives defined by a Cox-Ross-Rubinstien (CRR) model"
   ]
  },
  {
   "cell_type": "markdown",
   "metadata": {},
   "source": [
    "### Parameters of the model"
   ]
  },
  {
   "cell_type": "markdown",
   "metadata": {},
   "source": [
    "The parameters of the models are the following:"
   ]
  },
  {
   "cell_type": "code",
   "execution_count": null,
   "metadata": {
    "collapsed": false
   },
   "outputs": [],
   "source": [
    "import os\n",
    "import numpy as np\n",
    "import scipy as scp\n",
    "import pylab\n",
    "import math\n",
    "import matplotlib.pyplot as plt\n",
    "%matplotlib inline\n",
    "import networkx as nx \n",
    "r = 0.5   # The interest rate of the riskless bond\n",
    "p = 0.5   # The probability for the price at each period to go upwarwd\n",
    "q = 1.0-p # The probability for the price at each period to go downwarwd\n",
    "u = 2.0   # The level of increase of the price\n",
    "d = 0.5   # The level of decrease of the price\n",
    "T = 5     # Number of periods in the model\n",
    "S0 = 1.0  # Value of the risky asset at time 0"
   ]
  },
  {
   "cell_type": "markdown",
   "metadata": {},
   "source": [
    "### The non-arbitrage condition"
   ]
  },
  {
   "cell_type": "markdown",
   "metadata": {},
   "source": [
    "##### 1) Recall the non-arbitrage conditon and create a test command which prints an error message in case in is not satisfied"
   ]
  },
  {
   "cell_type": "markdown",
   "metadata": {},
   "source": [
    "The non-arbitrage condition is: \n",
    "$$ d < 1+r <u $$"
   ]
  },
  {
   "cell_type": "code",
   "execution_count": null,
   "metadata": {
    "collapsed": false
   },
   "outputs": [],
   "source": [
    "if d >= 1.0+r or 1.0+r >= u:\n",
    "    print(\"The market allows arbitrage\")\n",
    "else:\n",
    "    print(\"The market is arbitrage free\")\n",
    "    print(\"We define the unique (in the case of the Cox-Ross-Rubinstein modem) equivalent martingale measure through  p∗ (p_star)\")\n",
    "    p_star = (1.0+r-d)/(u-d)\n",
    "    print('p_star = ',p_star)"
   ]
  },
  {
   "cell_type": "markdown",
   "metadata": {},
   "source": [
    "### Simulating sample paths of the risky asset"
   ]
  },
  {
   "cell_type": "code",
   "execution_count": null,
   "metadata": {
    "collapsed": false
   },
   "outputs": [],
   "source": [
    "M = 10    # The number of simulated sample paths\n",
    "S = np.zeros((M,T+1))"
   ]
  },
  {
   "cell_type": "markdown",
   "metadata": {},
   "source": [
    "We create and initialize the first valuer of the stock $S$"
   ]
  },
  {
   "cell_type": "code",
   "execution_count": null,
   "metadata": {
    "collapsed": false
   },
   "outputs": [],
   "source": [
    "start = np.zeros(M)\n",
    "for i in range(0,M):\n",
    "    start[i]=S0\n",
    "S[:,0]=start"
   ]
  },
  {
   "cell_type": "markdown",
   "metadata": {},
   "source": [
    "##### 2) Simulate $M$ paths of the stock $S$"
   ]
  },
  {
   "cell_type": "code",
   "execution_count": null,
   "metadata": {
    "collapsed": false
   },
   "outputs": [],
   "source": [
    "B = np.random.binomial(1,p,T+1) # We simulate all the Bernouilli random variables"
   ]
  },
  {
   "cell_type": "code",
   "execution_count": null,
   "metadata": {
    "collapsed": false
   },
   "outputs": [],
   "source": [
    "def transform(B): # Transform a vector of O and 1 into a vector of u and d's\n",
    "    temp1 = np.size(B)\n",
    "    up_and_down = np.zeros(temp1)\n",
    "    for i in range(0,temp1):\n",
    "        if B[i]==1:\n",
    "            up_and_down[i]=u\n",
    "        else:\n",
    "            up_and_down[i]=d\n",
    "    return up_and_down"
   ]
  },
  {
   "cell_type": "code",
   "execution_count": null,
   "metadata": {
    "collapsed": false
   },
   "outputs": [],
   "source": [
    "def simulateS(m):\n",
    "    B = np.zeros(m)\n",
    "    up_and_down = np.zeros(m)\n",
    "    for i in range(1,T+1):\n",
    "        B = np.random.binomial(1,p,m)\n",
    "        up_and_down = transform(B)\n",
    "        S[:,i]=S[:,i-1]*up_and_down"
   ]
  },
  {
   "cell_type": "code",
   "execution_count": null,
   "metadata": {
    "collapsed": false
   },
   "outputs": [],
   "source": [
    "simulateS(M)"
   ]
  },
  {
   "cell_type": "code",
   "execution_count": null,
   "metadata": {
    "collapsed": false
   },
   "outputs": [],
   "source": [
    "t1=np.linspace(0,T,num=T+1)\n",
    "plt.plot(np.transpose(S))\n",
    "plt.grid()\n",
    "plt.show()"
   ]
  },
  {
   "cell_type": "markdown",
   "metadata": {},
   "source": [
    "### Another representation using graphs (Binary trees)"
   ]
  },
  {
   "cell_type": "code",
   "execution_count": null,
   "metadata": {
    "collapsed": false
   },
   "outputs": [],
   "source": [
    "def binomial_grid(n,s0):\n",
    "    G=nx.Graph() \n",
    "    for i in range(0,n):\n",
    "        j=-i+1\n",
    "        while (j<i+2):\n",
    "            G.add_edge((i,j),(i+1,j+1),weight=0.0)\n",
    "            G.add_edge((i,j),(i+1,j-1),weight=0.0)\n",
    "            j=j+2\n",
    "    \n",
    "    j=1\n",
    "    for i in range(0,n):\n",
    "        r=np.random.binomial(1,p,1)\n",
    "        if r >0:\n",
    "            G.add_edge((i,j),(i+1,j+1),weight=1.0)\n",
    "            j=j+1\n",
    "        else:\n",
    "            G.add_edge((i,j),(i+1,j-1),weight=1.0)\n",
    "            j=j-1\n",
    "    \n",
    "    posG={}\n",
    "    lab={}\n",
    "    for node in G.nodes():\n",
    "        posG[node]=(node[0],node[1])\n",
    "        if node[0]==0:\n",
    "            lab[node]=s0\n",
    "        i=node[0]\n",
    "        j=node[1]\n",
    "        if j>1:\n",
    "            lab[node]=s0*(u**(j-1))\n",
    "        elif j==1:\n",
    "            lab[node]=s0\n",
    "        else:\n",
    "            lab[node]=s0*(d**(1-j))\n",
    "    elarge=[(a,b) for (a,b,c) in G.edges(data=True) if c['weight'] >0.5]\n",
    "    esmall=[(a,b) for (a,b,c) in G.edges(data=True) if c['weight'] <=0.5]\n",
    "    nx.draw_networkx_edges(G,posG,edgelist=elarge,edge_color='blue',width=2)\n",
    "    nx.draw_networkx_edges(G,posG,edgelist=esmall,style='dashed')\n",
    "    nx.draw_networkx_labels(G,posG,lab,font_size=15,font_family='sans-serif')\n",
    "    plt.show()"
   ]
  },
  {
   "cell_type": "code",
   "execution_count": null,
   "metadata": {
    "collapsed": false
   },
   "outputs": [],
   "source": [
    "binomial_grid(5,100.0)"
   ]
  },
  {
   "cell_type": "markdown",
   "metadata": {},
   "source": [
    "### Pricing"
   ]
  },
  {
   "cell_type": "markdown",
   "metadata": {},
   "source": [
    "##### Pricing of European Financial claims on the Cox-Ross-Rubinstien model"
   ]
  },
  {
   "cell_type": "markdown",
   "metadata": {},
   "source": [
    "The aim of this section is to write a function \"Price\" which computes the (arbitrage) price at any time of a contract whose payoff is given by a mapping $g_T$ using the Dynamic Programming Principle as in Theorem 6.2.1."
   ]
  },
  {
   "cell_type": "markdown",
   "metadata": {},
   "source": [
    "we start with a plotting function for a Binary tree"
   ]
  },
  {
   "cell_type": "code",
   "execution_count": null,
   "metadata": {
    "collapsed": false
   },
   "outputs": [],
   "source": [
    "def plot_tree(g):\n",
    "    pos={}\n",
    "    lab={}\n",
    "    \n",
    "    for n in g.nodes():\n",
    "        pos[n]=(n[0],n[1])\n",
    "        lab[n]=float(int(g.node[n]['value']*1000))/1000 # This is just to print only with 10^-2 precision\n",
    "    \n",
    "    elarge=g.edges(data=True)\n",
    "    nx.draw_networkx_edges(g,pos,edgelist=elarge)\n",
    "    nx.draw_networkx_labels(g,pos,lab,font_size=15,font_family='sans-serif')\n",
    "    plt.show()"
   ]
  },
  {
   "cell_type": "markdown",
   "metadata": {},
   "source": [
    "We construct the graph of prices"
   ]
  },
  {
   "cell_type": "code",
   "execution_count": null,
   "metadata": {
    "collapsed": false
   },
   "outputs": [],
   "source": [
    "def graph_stock():\n",
    "    S=nx.Graph()\n",
    "    for i in range(0,T):\n",
    "        j=-i+1\n",
    "        while (j<i+2):\n",
    "            S.add_edge((i,j),(i+1,j+1))\n",
    "            S.add_edge((i,j),(i+1,j-1))\n",
    "            j=j+2\n",
    "            \n",
    "    for n in S.nodes():\n",
    "        \n",
    "        if n[0]==0:\n",
    "            S.node[n]['value']=S0\n",
    "        i=n[0]\n",
    "        j=n[1]\n",
    "        if j>1:\n",
    "            S.node[n]['value'] = S0*(u**(j-1))\n",
    "        elif j==1:\n",
    "            S.node[n]['value'] = S0\n",
    "        else:\n",
    "            S.node[n]['value'] = S0*(d**(1-j))\n",
    "    return S"
   ]
  },
  {
   "cell_type": "code",
   "execution_count": null,
   "metadata": {
    "collapsed": false
   },
   "outputs": [],
   "source": [
    "S=nx.Graph()\n",
    "S =graph_stock()\n",
    "plot_tree(S)"
   ]
  },
  {
   "cell_type": "markdown",
   "metadata": {},
   "source": [
    "##### 3) Compute the price of a European Call Option"
   ]
  },
  {
   "cell_type": "code",
   "execution_count": null,
   "metadata": {
    "collapsed": false
   },
   "outputs": [],
   "source": [
    "def European_call(x,K):\n",
    "        return np.maximum(x-K,0.0)"
   ]
  },
  {
   "cell_type": "code",
   "execution_count": null,
   "metadata": {
    "collapsed": false
   },
   "outputs": [],
   "source": [
    "def compute_European_Call_prices(K):\n",
    "\n",
    "    g = nx.Graph()\n",
    "    price = nx.Graph()\n",
    "    \n",
    "    S = nx.Graph()\n",
    "    \n",
    "    S = graph_stock()\n",
    "\n",
    "    for i in range(0,T):\n",
    "            j=-i+1\n",
    "            while (j<i+2):\n",
    "                g.add_edge((i,j),(i+1,j+1))\n",
    "                g.add_edge((i,j),(i+1,j-1))\n",
    "                price.add_edge((i,j),(i+1,j+1))\n",
    "                price.add_edge((i,j),(i+1,j-1))\n",
    "                j=j+2\n",
    "\n",
    "    for n in S.nodes():\n",
    "        if n[0]==5:\n",
    "            g.node[n]['value'] = European_call(S.node[n]['value'],K)\n",
    "            price.node[n]['value'] = European_call(S.node[n]['value'],K)\n",
    "    \n",
    "    i=T-1\n",
    "    while i>=0:\n",
    "        j=-i+1\n",
    "        while j<i+2:\n",
    "            g.node[(i,j)]['value'] = g.node[(i+1,j+1)]['value']*p_star + g.node[(i+1,j-1)]['value']*(1.0-p_star)\n",
    "            price.node[(i,j)]['value'] = g.node[(i,j)]['value']*((1.0+r)**(i-T))\n",
    "            j=j+2\n",
    "        i=i-1\n",
    "        \n",
    "    return price\n"
   ]
  },
  {
   "cell_type": "markdown",
   "metadata": {},
   "source": [
    "Computation the price of a European Call option"
   ]
  },
  {
   "cell_type": "code",
   "execution_count": null,
   "metadata": {
    "collapsed": false
   },
   "outputs": [],
   "source": [
    "price = nx.Graph()\n",
    "\n",
    "K=0.0\n",
    "\n",
    "K = input(\"Enter the value of the strike K : \")\n",
    "\n",
    "price_Call = compute_European_Call_prices(float(K))\n",
    "\n",
    "plot_tree(S)\n",
    "plot_tree(price_Call)\n",
    "\n",
    "print('Value of the price at time 0 of the European Call option with strike ',K,' = ',price_Call.node[(0,1)]['value'])"
   ]
  },
  {
   "cell_type": "markdown",
   "metadata": {},
   "source": [
    "##### 4) Compute the price of a European Put Option"
   ]
  },
  {
   "cell_type": "code",
   "execution_count": null,
   "metadata": {
    "collapsed": false
   },
   "outputs": [],
   "source": [
    "def compute_European_Put_prices(K):\n",
    "\n",
    "    g = nx.Graph()\n",
    "    price = nx.Graph()\n",
    "    Call = nx.Graph()\n",
    "    \n",
    "    Call = compute_European_Call_prices(K)\n",
    "    \n",
    "    S = nx.Graph()\n",
    "    \n",
    "    S = graph_stock()\n",
    "\n",
    "    for i in range(0,T):\n",
    "            j=-i+1\n",
    "            while (j<i+2):\n",
    "                price.add_edge((i,j),(i+1,j+1))\n",
    "                price.add_edge((i,j),(i+1,j-1))\n",
    "                j=j+2\n",
    "\n",
    "    for n in S.nodes():\n",
    "        if n[0]==5:\n",
    "            price.node[n]['value'] = European_call(K,S.node[n]['value'])    \n",
    "    i=T-1\n",
    "    while i>=0:\n",
    "        j=-i+1\n",
    "        while j<i+2:\n",
    "            price.node[(i,j)]['value'] = Call.node[(i,j)]['value'] + K*(1.0+r)**(i-T) - S.node[(i,j)]['value']\n",
    "            j=j+2\n",
    "        i=i-1\n",
    "        \n",
    "    return price"
   ]
  },
  {
   "cell_type": "code",
   "execution_count": null,
   "metadata": {
    "collapsed": false
   },
   "outputs": [],
   "source": [
    "price_Put = nx.Graph()\n",
    "\n",
    "K=0.0\n",
    "\n",
    "K = input(\"Enter the value of the strike K : \")\n",
    "\n",
    "price_Call = compute_European_Call_prices(float(K))\n",
    "\n",
    "price_Put = compute_European_Put_prices(float(K))\n",
    "\n",
    "plot_tree(S)\n",
    "plot_tree(price_Call)\n",
    "plot_tree(price_Put)"
   ]
  },
  {
   "cell_type": "markdown",
   "metadata": {},
   "source": [
    "##### 5) Complete the codes above to compute a hedging strategy and simumate the associated wealth processes"
   ]
  },
  {
   "cell_type": "code",
   "execution_count": null,
   "metadata": {
    "collapsed": false
   },
   "outputs": [],
   "source": [
    "# Fill here"
   ]
  },
  {
   "cell_type": "markdown",
   "metadata": {},
   "source": [
    "##### 6) We now deal with the case of American Options"
   ]
  },
  {
   "cell_type": "markdown",
   "metadata": {},
   "source": [
    "We admit that the price at a given time $t$ of an American Option with respect to the family of payoffs $(G_t:=g_t^{Amer}(S_t))_t$ is given by:\n",
    "$$ \\nu_t = \\max\\left(G_t, (1+r)^{-1} \\mathbb{E}^{\\mathbb{P}^\\ast}[\\nu_{t+1}\\vert \\mathcal{F}_t]\\right), \\quad \\nu_T:=G_T. $$"
   ]
  },
  {
   "cell_type": "markdown",
   "metadata": {},
   "source": [
    "Deduce that at any time $t$, $\\nu_t = f_t^{Amer}(S_t)$ with\n",
    "$$ f_t^{Amer}(x):= \\max\\left(g_t^{Amer}(x),(1+r)^{-1}\\left(f_{t+1}^{Amer}(x u) p^\\ast + f_{t+1}^{Amer}(x d) (1-p^\\ast)\\right)\\right), \\quad f_T^{Amer}(x):=g_T^{Amer}(x).$$"
   ]
  },
  {
   "cell_type": "markdown",
   "metadata": {},
   "source": [
    "Write a code to compute the graph of an American Call Option and compare it with the price of the European Call Option"
   ]
  },
  {
   "cell_type": "code",
   "execution_count": null,
   "metadata": {
    "collapsed": false
   },
   "outputs": [],
   "source": [
    "def compute_American_Call_prices(K):\n",
    "\n",
    "    price = nx.Graph()\n",
    "    \n",
    "    S = nx.Graph()\n",
    "    \n",
    "    S = graph_stock()\n",
    "\n",
    "    for i in range(0,T):\n",
    "            j=-i+1\n",
    "            while (j<i+2):\n",
    "                price.add_edge((i,j),(i+1,j+1))\n",
    "                price.add_edge((i,j),(i+1,j-1))\n",
    "                j=j+2\n",
    "\n",
    "    for n in S.nodes():\n",
    "        if n[0]==5:\n",
    "            price.node[n]['value'] = European_call(S.node[n]['value'],K)\n",
    "    \n",
    "    i=T-1\n",
    "    while i>=0:\n",
    "        j=-i+1\n",
    "        while j<i+2:\n",
    "            temp = price.node[(i+1,j+1)]['value']*p_star + price.node[(i+1,j-1)]['value']*(1.0-p_star)\n",
    "            price.node[(i,j)]['value'] = np.maximum(European_call(S.node[(i,j)]['value'],K),temp/(1.0+r))\n",
    "            j=j+2\n",
    "        i=i-1\n",
    "        \n",
    "    return price"
   ]
  },
  {
   "cell_type": "code",
   "execution_count": null,
   "metadata": {
    "collapsed": false
   },
   "outputs": [],
   "source": [
    "price_American_Call = nx.Graph()\n",
    "\n",
    "price_European_Call = nx.Graph()\n",
    "\n",
    "K=0.0\n",
    "\n",
    "K = input(\"Enter the value of the strike K : \")\n",
    "\n",
    "price_European_Call = compute_European_Call_prices(float(K))\n",
    "\n",
    "price_American_Call = compute_American_Call_prices(float(K))\n",
    "\n",
    "plot_tree(S)\n",
    "plot_tree(price_European_Call)\n",
    "plot_tree(price_American_Call)"
   ]
  },
  {
   "cell_type": "markdown",
   "metadata": {},
   "source": [
    "Write a code to compute the graph of an American Put Option and compare it with the price of the European Call Option"
   ]
  },
  {
   "cell_type": "code",
   "execution_count": null,
   "metadata": {
    "collapsed": false
   },
   "outputs": [],
   "source": [
    "def compute_American_Put_prices(K):\n",
    "\n",
    "    price = nx.Graph()\n",
    "    \n",
    "    S = nx.Graph()\n",
    "    \n",
    "    S = graph_stock()\n",
    "\n",
    "    for i in range(0,T):\n",
    "            j=-i+1\n",
    "            while (j<i+2):\n",
    "                price.add_edge((i,j),(i+1,j+1))\n",
    "                price.add_edge((i,j),(i+1,j-1))\n",
    "                j=j+2\n",
    "\n",
    "    for n in S.nodes():\n",
    "        if n[0]==5:\n",
    "            price.node[n]['value'] = European_call(K,S.node[n]['value'])\n",
    "    \n",
    "    i=T-1\n",
    "    while i>=0:\n",
    "        j=-i+1\n",
    "        while j<i+2:\n",
    "            temp = price.node[(i+1,j+1)]['value']*p_star + price.node[(i+1,j-1)]['value']*(1.0-p_star)\n",
    "            price.node[(i,j)]['value'] = np.maximum(European_call(K,S.node[(i,j)]['value']),temp/(1.0+r))\n",
    "            j=j+2\n",
    "        i=i-1\n",
    "        \n",
    "    return price"
   ]
  },
  {
   "cell_type": "code",
   "execution_count": null,
   "metadata": {
    "collapsed": false
   },
   "outputs": [],
   "source": [
    "price_American_Put = nx.Graph()\n",
    "\n",
    "price_European_Put = nx.Graph()\n",
    "\n",
    "K=0.0\n",
    "\n",
    "K = input(\"Enter the value of the strike K : \")\n",
    "\n",
    "price_European_Put = compute_European_Put_prices(float(K))\n",
    "\n",
    "price_American_Put = compute_American_Put_prices(float(K))\n",
    "\n",
    "plot_tree(S)\n",
    "plot_tree(price_European_Put)\n",
    "plot_tree(price_American_Put)"
   ]
  },
  {
   "cell_type": "code",
   "execution_count": null,
   "metadata": {
    "collapsed": false
   },
   "outputs": [],
   "source": [
    "r=0.0\n",
    "\n",
    "K=1.0\n",
    "\n",
    "opti = nx.Graph()\n",
    "Ame_Put = nx.Graph()\n",
    "\n",
    "Ame_Put = compute_American_Put_prices(K)\n",
    "    \n",
    "S = nx.Graph()\n",
    "    \n",
    "S = graph_stock()\n",
    "\n",
    "for i in range(0,T):\n",
    "        j=-i+1\n",
    "        while (j<i+2):\n",
    "            opti.add_edge((i,j),(i+1,j+1))\n",
    "            opti.add_edge((i,j),(i+1,j-1))\n",
    "            j=j+2\n",
    "\n",
    "for n in S.nodes():\n",
    "    if n[0]==5:\n",
    "        opti.node[n]['value'] = 0.0\n",
    "    \n",
    "i=T-1\n",
    "while i>=0:\n",
    "    j=-i+1\n",
    "    while j<i+2:\n",
    "        opti.node[(i,j)]['value'] = Ame_Put.node[(i,j)]['value']-European_call(K,S.node[(i,j)]['value'])\n",
    "        j=j+2\n",
    "    i=i-1\n",
    "\n",
    "plot_tree(opti)    "
   ]
  },
  {
   "cell_type": "code",
   "execution_count": null,
   "metadata": {
    "collapsed": false
   },
   "outputs": [],
   "source": []
  }
 ],
 "metadata": {
  "kernelspec": {
   "display_name": "Python 3",
   "language": "python",
   "name": "python3"
  },
  "language_info": {
   "codemirror_mode": {
    "name": "ipython",
    "version": 3
   },
   "file_extension": ".py",
   "mimetype": "text/x-python",
   "name": "python",
   "nbconvert_exporter": "python",
   "pygments_lexer": "ipython3",
   "version": "3.5.1+"
  },
  "widgets": {
   "state": {},
   "version": "1.1.2"
  }
 },
 "nbformat": 4,
 "nbformat_minor": 0
}

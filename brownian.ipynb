{
 "cells": [
  {
   "cell_type": "code",
   "execution_count": null,
   "metadata": {
    "collapsed": false
   },
   "outputs": [],
   "source": [
    "%matplotlib notebook\n",
    "\n",
    "from pylab import *\n",
    "import time\n",
    "import numpy as np\n",
    "import random as rm\n",
    "import matplotlib \n",
    "import matplotlib.pyplot as plt \n",
    "    \n",
    "def path(axarr):\n",
    "    global alpha,z,t,dt\n",
    "    z1=z;    \n",
    "    z=z[:-1]\n",
    "    z=np.append([0],z)\n",
    "    m = (np.add(z1, z)).tolist()\n",
    "    m = 0.5*np.array(m)\n",
    "    y = np.random.normal(0, pow(dt/4,alpha), len(t) - 1)\n",
    "    x = (np.add(m, y)).tolist() \n",
    "    x = np.insert(z1, np.arange(len(x)), x)\n",
    "    t = list(range(2*len(t)-1))\n",
    "    tt = 0.5*dt*np.array(t)\n",
    "    axarr.clear()\n",
    "    axarr.plot(tt,np.append([0],x))\n",
    "    n=2*len(t)-2\n",
    "    plt.text(0.1,x[0],'n=%d' % n)\n",
    "    z=x\n",
    "    dt=dt/2\n",
    "    ff.canvas.draw()\n",
    "\n",
    "ff, axarr = plt.subplots(1,figsize=(12,10))"
   ]
  },
  {
   "cell_type": "code",
   "execution_count": null,
   "metadata": {
    "collapsed": true
   },
   "outputs": [],
   "source": [
    "alpha=0.5\n",
    "t = [0,1]\n",
    "dt = 1\n",
    "z=[np.random.normal(0, pow(dt,alpha))]\n",
    "axarr.clear()\n",
    "axarr.plot(t*dt,[0]+z)\n",
    "ff.canvas.draw()\n",
    "time.sleep(1)\n",
    "\n",
    "for f in range(8):\n",
    "    path(axarr)\n",
    "    time.sleep(1)"
   ]
  },
  {
   "cell_type": "code",
   "execution_count": null,
   "metadata": {
    "collapsed": true
   },
   "outputs": [],
   "source": [
    "path(axarr)"
   ]
  }
 ],
 "metadata": {
  "kernelspec": {
   "display_name": "Python 3",
   "language": "python",
   "name": "python3"
  },
  "language_info": {
   "codemirror_mode": {
    "name": "ipython",
    "version": 3
   },
   "file_extension": ".py",
   "mimetype": "text/x-python",
   "name": "python",
   "nbconvert_exporter": "python",
   "pygments_lexer": "ipython3",
   "version": "3.5.1+"
  },
  "widgets": {
   "state": {},
   "version": "1.1.2"
  }
 },
 "nbformat": 4,
 "nbformat_minor": 0
}

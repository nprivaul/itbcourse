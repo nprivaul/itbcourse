{
 "cells": [
  {
   "cell_type": "code",
   "execution_count": null,
   "metadata": {
    "collapsed": false
   },
   "outputs": [],
   "source": [
    "import os\n",
    "import scipy as scp\n",
    "import pylab\n",
    "import math\n",
    "import networkx as nx \n",
    "%matplotlib notebook\n",
    "from pylab import *\n",
    "import time\n",
    "import numpy as np\n",
    "import random as rm\n",
    "import matplotlib \n",
    "import matplotlib.pyplot as plt \n",
    "\n",
    "r = 0.5\n",
    "p = 0.5\n",
    "q = 1-p\n",
    "u = 2.0\n",
    "d = 0.5\n",
    "\n",
    "N=5\n",
    "\n",
    "X = np.empty(N+1, dtype=int)\n",
    "Y = np.empty(N+1, dtype=int)\n",
    "for i in range(0,N+1):\n",
    "    X[i]=i\n",
    "    Y[i]=0\n",
    "Y[0] = 1.0\n",
    "\n",
    "def path(axarr):\n",
    "    global X,Y\n",
    "#    axarr.clear()\n",
    "    for i in range(1,N+1):\n",
    "        up_and_down = np.random.choice([d,u],1,[q,p]) \n",
    "        Y[i]=Y[i-1]*up_and_down\n",
    "    axarr.plot(X[0:N+1],Y[0:N+1],marker='.',markersize = 14)\n",
    "#    matplotlib.pyplot.yticks([0,1,2,3,4])\n",
    "#    matplotlib.pyplot.xlim((0,N))\n",
    "    ff.canvas.draw()\n",
    "    \n",
    "ff, axarr = plt.subplots(1,figsize=(12,10))\n",
    "matplotlib.pyplot.xticks(range(0,N+1))\n",
    "matplotlib.pyplot.ylim((0,Y[0]*pow(u,N-1)))"
   ]
  },
  {
   "cell_type": "code",
   "execution_count": null,
   "metadata": {
    "collapsed": false
   },
   "outputs": [],
   "source": [
    "path(axarr)"
   ]
  }
 ],
 "metadata": {
  "anaconda-cloud": {},
  "kernelspec": {
   "display_name": "Python [Root]",
   "language": "python",
   "name": "Python [Root]"
  },
  "language_info": {
   "codemirror_mode": {
    "name": "ipython",
    "version": 3
   },
   "file_extension": ".py",
   "mimetype": "text/x-python",
   "name": "python",
   "nbconvert_exporter": "python",
   "pygments_lexer": "ipython3",
   "version": "3.5.1"
  }
 },
 "nbformat": 4,
 "nbformat_minor": 0
}

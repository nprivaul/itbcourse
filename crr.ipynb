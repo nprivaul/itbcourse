{
 "cells": [
  {
   "cell_type": "code",
   "execution_count": null,
   "metadata": {
    "collapsed": false
   },
   "outputs": [],
   "source": [
    "import os\n",
    "import scipy as scp\n",
    "import pylab\n",
    "import math\n",
    "import networkx as nx \n",
    "%matplotlib notebook\n",
    "from pylab import *\n",
    "from math import *\n",
    "import time\n",
    "import numpy as np\n",
    "import random as rm\n",
    "import matplotlib \n",
    "import matplotlib.pyplot as plt \n",
    "\n",
    "N=50\n",
    "sig = 1.0\n",
    "rate = 1.0\n",
    "\n",
    "r = rate/N\n",
    "b = (1+r)*exp(sig/sqrt(N))-1\n",
    "a = (1+r)*exp(-sig/sqrt(N))-1\n",
    "\n",
    "p = (r-a)/(b-a)\n",
    "q = (b-r)/(b-a)\n",
    "\n",
    "X = np.empty(N+1, dtype=int)\n",
    "Y = np.empty(N+1)\n",
    "for i in range(0,N+1):\n",
    "    X[i]=i\n",
    "    Y[i]=0\n",
    "Y[0] = 1.0\n",
    "\n",
    "def path(axarr):\n",
    "    global X,Y\n",
    "#    axarr.clear()\n",
    "    for i in range(1,N+1):\n",
    "        returns = np.random.choice([b,a],1,p=[p,q]) \n",
    "        Y[i]=Y[i-1]*(1+returns)\n",
    "        returns\n",
    "    axarr.plot(X[0:N+1],Y[0:N+1],marker='.',markersize = 14)\n",
    "    ff.canvas.draw()\n",
    "    \n",
    "ff, axarr = plt.subplots(1,figsize=(12,10))\n",
    "matplotlib.pyplot.xticks(range(0,N+1))\n",
    "matplotlib.pyplot.ylim((0,Y[0]*N*b))"
   ]
  },
  {
   "cell_type": "code",
   "execution_count": null,
   "metadata": {
    "collapsed": false
   },
   "outputs": [],
   "source": [
    "path(axarr)"
   ]
  }
 ],
 "metadata": {
  "anaconda-cloud": {},
  "kernelspec": {
   "display_name": "Python 3",
   "language": "python",
   "name": "python3"
  },
  "language_info": {
   "codemirror_mode": {
    "name": "ipython",
    "version": 3
   },
   "file_extension": ".py",
   "mimetype": "text/x-python",
   "name": "python",
   "nbconvert_exporter": "python",
   "pygments_lexer": "ipython3",
   "version": "3.5.2"
  },
  "widgets": {
   "state": {},
   "version": "1.1.2"
  }
 },
 "nbformat": 4,
 "nbformat_minor": 0
}

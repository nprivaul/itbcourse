{
 "cells": [
  {
   "cell_type": "code",
   "execution_count": null,
   "metadata": {
    "collapsed": false
   },
   "outputs": [],
   "source": [
    "%matplotlib inline\n",
    "import networkx as nx \n",
    "import numpy as np\n",
    "import matplotlib \n",
    "import matplotlib.pyplot as plt \n",
    "\n",
    "\n",
    "T=2\n",
    "S0=1\n",
    "\n",
    "r = 1\n",
    "b = 2\n",
    "a = 0\n",
    "\n",
    "p = (r-a)/(b-a)\n",
    "q = (b-r)/(b-a)\n",
    "\n",
    "def plot_tree(g):\n",
    "    pos={}\n",
    "    lab={}\n",
    "    \n",
    "    for n in g.nodes():\n",
    "        pos[n]=(n[0],n[1])\n",
    "        lab[n]=float(int(g.node[n]['value']*1000))/1000 # This is just to print only with 10^-2 precision\n",
    "    \n",
    "    elarge=g.edges(data=True)\n",
    "    nx.draw_networkx_edges(g,pos,edgelist=elarge)\n",
    "    nx.draw_networkx_labels(g,pos,lab,font_size=15,font_family='sans-serif')\n",
    "    plt.show()\n",
    "    \n",
    "def graph_stock():\n",
    "    S=nx.Graph()\n",
    "    for i in range(0,T):\n",
    "        j=-i+1\n",
    "        while (j<i+2):\n",
    "            S.add_edge((i,j),(i+1,j+1))\n",
    "            S.add_edge((i,j),(i+1,j-1))\n",
    "            j=j+2\n",
    "            \n",
    "    for n in S.nodes():\n",
    "        \n",
    "        if n[0]==0:\n",
    "            S.node[n]['value']=S0\n",
    "        i=n[0]\n",
    "        j=n[1]\n",
    "        if j>1:\n",
    "            S.node[n]['value'] = S0*((1+b)**(j-1))\n",
    "        elif j==1:\n",
    "            S.node[n]['value'] = S0\n",
    "        else:\n",
    "            S.node[n]['value'] = S0*((1+a)**(1-j))\n",
    "    return S\n",
    "\n",
    "S=nx.Graph()\n",
    "S =graph_stock()\n",
    "plot_tree(S)"
   ]
  },
  {
   "cell_type": "code",
   "execution_count": null,
   "metadata": {
    "collapsed": true
   },
   "outputs": [],
   "source": [
    "def European_Call_price(K):\n",
    "\n",
    "    g = nx.Graph()\n",
    "    price = nx.Graph()\n",
    "    \n",
    "    S = nx.Graph()\n",
    "    \n",
    "    S = graph_stock()\n",
    "\n",
    "    for i in range(0,T):\n",
    "            j=-i+1\n",
    "            while (j<i+2):\n",
    "                g.add_edge((i,j),(i+1,j+1))\n",
    "                g.add_edge((i,j),(i+1,j-1))\n",
    "                price.add_edge((i,j),(i+1,j+1))\n",
    "                price.add_edge((i,j),(i+1,j-1))\n",
    "                j=j+2\n",
    "\n",
    "    for n in S.nodes():\n",
    "        if n[0]==T:\n",
    "            g.node[n]['value'] = np.maximum(S.node[n]['value']-K,0)\n",
    "            price.node[n]['value'] = np.maximum(S.node[n]['value']-K,0)\n",
    "    \n",
    "    i=T-1\n",
    "    while i>=0:\n",
    "        j=-i+1\n",
    "        while j<i+2:\n",
    "            g.node[(i,j)]['value'] = g.node[(i+1,j+1)]['value']*p+ g.node[(i+1,j-1)]['value']*q\n",
    "            price.node[(i,j)]['value'] = g.node[(i,j)]['value']*((1.0+r)**(i-T))\n",
    "            j=j+2\n",
    "        i=i-1\n",
    "        \n",
    "    return price"
   ]
  },
  {
   "cell_type": "code",
   "execution_count": null,
   "metadata": {
    "collapsed": false
   },
   "outputs": [],
   "source": [
    "price = nx.Graph()\n",
    "\n",
    "K=0.0\n",
    "\n",
    "K = input(\"Enter the value of the strike K : \")\n",
    "\n",
    "price_Call = European_Call_price(float(K))\n",
    "\n",
    "plot_tree(S)\n",
    "plot_tree(price_Call)\n",
    "\n",
    "print('Value of the price at time 0 of the European Call option with strike ',K,' = ',price_Call.node[(0,1)]['value'])"
   ]
  },
  {
   "cell_type": "code",
   "execution_count": null,
   "metadata": {
    "collapsed": true
   },
   "outputs": [],
   "source": [
    "def European_Put_price(K):\n",
    "\n",
    "    g = nx.Graph()\n",
    "    price = nx.Graph()\n",
    "    Call = nx.Graph()\n",
    "    \n",
    "    Call = European_Call_price(K)\n",
    "    \n",
    "    S = nx.Graph()\n",
    "    \n",
    "    S = graph_stock()\n",
    "\n",
    "    for i in range(0,T):\n",
    "            j=-i+1\n",
    "            while (j<i+2):\n",
    "                price.add_edge((i,j),(i+1,j+1))\n",
    "                price.add_edge((i,j),(i+1,j-1))\n",
    "                j=j+2\n",
    "\n",
    "    for n in S.nodes():\n",
    "        if n[0]==T:\n",
    "            price.node[n]['value'] = np.maximum(K-S.node[n]['value'],0)   \n",
    "    i=T-1\n",
    "    while i>=0:\n",
    "        j=-i+1\n",
    "        while j<i+2:\n",
    "            price.node[(i,j)]['value'] = Call.node[(i,j)]['value'] + K*(1.0+r)**(i-T) - S.node[(i,j)]['value']\n",
    "            j=j+2\n",
    "        i=i-1\n",
    "        \n",
    "    return price"
   ]
  },
  {
   "cell_type": "code",
   "execution_count": null,
   "metadata": {
    "collapsed": false
   },
   "outputs": [],
   "source": [
    "price_Put = nx.Graph()\n",
    "\n",
    "K=0.0\n",
    "\n",
    "K = input(\"Enter the value of the strike K : \")\n",
    "\n",
    "price_Put = European_Put_price(float(K))\n",
    "\n",
    "plot_tree(S)\n",
    "plot_tree(price_Put)"
   ]
  }
 ],
 "metadata": {
  "anaconda-cloud": {},
  "kernelspec": {
   "display_name": "Python 3",
   "language": "python",
   "name": "python3"
  },
  "language_info": {
   "codemirror_mode": {
    "name": "ipython",
    "version": 3
   },
   "file_extension": ".py",
   "mimetype": "text/x-python",
   "name": "python",
   "nbconvert_exporter": "python",
   "pygments_lexer": "ipython3",
   "version": "3.5.2"
  },
  "widgets": {
   "state": {},
   "version": "1.1.2"
  }
 },
 "nbformat": 4,
 "nbformat_minor": 0
}
